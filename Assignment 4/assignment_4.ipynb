{
 "cells": [
  {
   "cell_type": "markdown",
   "metadata": {},
   "source": [
    "# Assingment 4\n",
    "\n",
    "1. Please estimate a theoretical standard Hungarian university student's daily 95% VaR, and 1 year VaR 99% events and if applicable, their monetary values. The text answers will be judged by the relevance of the example, they need not be personal or true for a concrete person.\n",
    "2. Download the daily closing price history of ZWACK from WSJ (https://www.wsj.com/market-data/quotes/HU/XBUD/ZWACK/historical-prices/download?MOD_VIEW=page&num_rows=3768.9583333333335&range_days=3768.9583333333335&startDate=01/01/2010&endDate=04/27/2020) between 2010.01.01 and 2020.04.24. Plot the time series. Compute the daily absolute price return time series, and plot its cumulative distribution function. Determine the daily:\n",
    "\n",
    "  - standard deviation\n",
    "  - lower and upper VaR values at 99% confidence,\n",
    "  - lower and upper CVaR values at 95% confidence,\n",
    "  - expected shortfall value at 95% confidence\n",
    "\n",
    "Summarize your observations on the usefullness of these quantities as a risk measure in a single paragraph.\n",
    "\n"
   ]
  },
  {
   "cell_type": "markdown",
   "metadata": {},
   "source": [
    "## Solution"
   ]
  },
  {
   "cell_type": "markdown",
   "metadata": {},
   "source": [
    "### Example 1\n",
    "The Value-at-Risk measure is used to predict the loss of an investment with the given probability. In the student example, we have to formulate a reasonable definition for the \"value of university students\", to estimate their VaR values.\n",
    "\n",
    "Such a definition can be given, by considering the relation of the daily amount of money spent by the university student during his studies and his expected future earnings. In this framework, by \"investing in a student\" we mean the amount of money he or she spends, and his or her return is calculated as his or her expected future earnings. The expected earning of a student is constantly growing in time, as he or she progresses in the studies.\n",
    "\n",
    "This money, spent by the student can fluctuate around a mean with some standard deviation. If our investment spends more, it will be lossmaking. However if it spends less, it pays off more easily. VaR could be calculated by measuring this fluctuation, in relation to its payoff. The derivation of the exact function which relates these two values are left to the reader as an excersice."
   ]
  },
  {
   "cell_type": "markdown",
   "metadata": {},
   "source": [
    "### Example 2"
   ]
  },
  {
   "cell_type": "code",
   "execution_count": null,
   "metadata": {},
   "outputs": [],
   "source": [
    "import os\n",
    "import numpy as np\n",
    "import pandas as pd\n",
    "from scipy.stats import norm\n",
    "\n",
    "import seaborn as sns\n",
    "import matplotlib as mpl\n",
    "import matplotlib.cm as cm\n",
    "import matplotlib.pyplot as plt\n",
    "\n",
    "from tabulate import tabulate"
   ]
  },
  {
   "cell_type": "markdown",
   "metadata": {},
   "source": [
    "#### Just some matplotlib and seaborn parameter tuning"
   ]
  },
  {
   "cell_type": "code",
   "execution_count": null,
   "metadata": {},
   "outputs": [],
   "source": [
    "out = '.\\\\out\\\\'\n",
    "figsave_format = 'png'\n",
    "figsave_dpi = 200\n",
    "\n",
    "axistitlesize = 22\n",
    "axisticksize = 17\n",
    "axislabelsize = 26\n",
    "axislegendsize = 18\n",
    "\n",
    "# Set axtick dimensions\n",
    "major_size = 6\n",
    "major_width = 1.2\n",
    "minor_size = 3\n",
    "minor_width = 1\n",
    "mpl.rcParams['xtick.major.size'] = major_size\n",
    "mpl.rcParams['xtick.major.width'] = major_width\n",
    "mpl.rcParams['xtick.minor.size'] = minor_size\n",
    "mpl.rcParams['xtick.minor.width'] = minor_width\n",
    "mpl.rcParams['ytick.major.size'] = major_size\n",
    "mpl.rcParams['ytick.major.width'] = major_width\n",
    "mpl.rcParams['ytick.minor.size'] = minor_size\n",
    "mpl.rcParams['ytick.minor.width'] = minor_width\n",
    "\n",
    "# Seaborn style settings\n",
    "sns.set_style({'axes.axisbelow': True,\n",
    "               'axes.edgecolor': '.1',\n",
    "               'axes.facecolor': 'white',\n",
    "               'axes.grid': True,\n",
    "               'axes.labelcolor': '.15',\n",
    "               'axes.spines.bottom': True,\n",
    "               'axes.spines.left': True,\n",
    "               'axes.spines.right': True,\n",
    "               'axes.spines.top': True,\n",
    "               'figure.facecolor': 'white',\n",
    "               'font.family': ['sans-serif'],\n",
    "               'font.sans-serif': ['Arial',\n",
    "                'DejaVu Sans',\n",
    "                'Liberation Sans',\n",
    "                'Bitstream Vera Sans',\n",
    "                'sans-serif'],\n",
    "               'grid.color': '.8',\n",
    "               'grid.linestyle': '--',\n",
    "               'image.cmap': 'rocket',\n",
    "               'lines.solid_capstyle': 'round',\n",
    "               'patch.edgecolor': 'w',\n",
    "               'patch.force_edgecolor': True,\n",
    "               'text.color': '.15',\n",
    "               'xtick.bottom': True,\n",
    "               'xtick.color': '.15',\n",
    "               'xtick.direction': 'in',\n",
    "               'xtick.top': True,\n",
    "               'ytick.color': '.15',\n",
    "               'ytick.direction': 'in',\n",
    "               'ytick.left': True,\n",
    "               'ytick.right': True})"
   ]
  },
  {
   "cell_type": "markdown",
   "metadata": {},
   "source": [
    "#### Load dataset"
   ]
  },
  {
   "cell_type": "code",
   "execution_count": null,
   "metadata": {},
   "outputs": [],
   "source": [
    "data_dir = './/data//'\n",
    "data_file = data_dir + os.listdir(data_dir)[0]\n",
    "zwack_data = pd.read_csv(data_file)"
   ]
  },
  {
   "cell_type": "code",
   "execution_count": null,
   "metadata": {},
   "outputs": [],
   "source": [
    "zwack_data.head()"
   ]
  },
  {
   "cell_type": "code",
   "execution_count": null,
   "metadata": {
    "scrolled": true
   },
   "outputs": [],
   "source": [
    "zwack_data.tail()"
   ]
  },
  {
   "cell_type": "markdown",
   "metadata": {},
   "source": [
    "#### Reverse DataFrame to be in the correct order by dates"
   ]
  },
  {
   "cell_type": "code",
   "execution_count": null,
   "metadata": {},
   "outputs": [],
   "source": [
    "zwack_data = zwack_data[::-1]\n",
    "zwack_data.index = pd.RangeIndex(start=0, stop=zwack_data.index.start+1, step=1)"
   ]
  },
  {
   "cell_type": "code",
   "execution_count": null,
   "metadata": {},
   "outputs": [],
   "source": [
    "cols = zwack_data.columns"
   ]
  },
  {
   "cell_type": "code",
   "execution_count": null,
   "metadata": {},
   "outputs": [],
   "source": [
    "date_jump = 90"
   ]
  },
  {
   "cell_type": "code",
   "execution_count": null,
   "metadata": {},
   "outputs": [],
   "source": [
    "# Reverse all data into the correct order by time\n",
    "dates = np.array(zwack_data[cols[0]])\n",
    "zw_open = zwack_data[cols[1]]\n",
    "zw_close = zwack_data[cols[4]]\n",
    "zw_high = zwack_data[cols[2]]\n",
    "zw_low = zwack_data[cols[3]]"
   ]
  },
  {
   "cell_type": "markdown",
   "metadata": {},
   "source": [
    "#### First visualization"
   ]
  },
  {
   "cell_type": "code",
   "execution_count": null,
   "metadata": {},
   "outputs": [],
   "source": [
    "nrows = 2\n",
    "ncols = 2\n",
    "fig, axes = plt.subplots(nrows=nrows, ncols=ncols, figsize=(ncols*18, nrows*10),\n",
    "                         facecolor='black', subplot_kw=dict(facecolor='black'))\n",
    "fig.subplots_adjust(hspace=0.25, wspace=0.15)\n",
    "\n",
    "fill_alpha = 0.2\n",
    "\n",
    "y_values = [zw_open, zw_close, zw_high, zw_low]\n",
    "labels = ['Open values', 'Close values', 'High values', 'Low values']\n",
    "colors = ['yellow', 'tab:orange', 'tab:green', 'tab:red']\n",
    "\n",
    "for i in range(nrows):\n",
    "    for j in range(ncols):\n",
    "        axes[i][j].plot(dates, y_values[i*ncols + j],\n",
    "                        c=colors[i*ncols + j], lw=3)\n",
    "        axes[i][j].fill_between(dates, y_values[i*ncols + j],\n",
    "                                color=colors[i*ncols + j], alpha=fill_alpha)\n",
    "\n",
    "for i in range(nrows):\n",
    "    for j in range(ncols):\n",
    "        # Source text\n",
    "        axes[i][j].text(x=0.12, y=-0.17, s='Source of data: https://www.wsj.com/market-data/',\n",
    "                        c='white', fontsize=13, fontweight='book',\n",
    "                        horizontalalignment='center', verticalalignment='center', transform=axes[i][j].transAxes,\n",
    "                        bbox=dict(facecolor='black', alpha=0.2, lw=0))\n",
    "\n",
    "        axes[i][j].set_title('ZWC1 values -- {}'.format(labels[i*ncols + j]), \n",
    "                       fontsize=axistitlesize, fontweight='bold', color='white')\n",
    "\n",
    "        axes[i][j].set_xlabel('Time', fontsize=axislabelsize, color='white')\n",
    "        axes[i][j].set_ylabel('Values', fontsize=axislabelsize, color='white')\n",
    "\n",
    "        axes[i][j].tick_params(axis='both', which='major', labelsize=axisticksize, colors='white')\n",
    "        axes[i][j].set_xticks(dates[::date_jump])\n",
    "        axes[i][j].set_xticklabels(dates[::date_jump], rotation=42, ha='center')\n",
    "\n",
    "        # Should be placed after setting x-ticks!!!\n",
    "        axes[i][j].set_xlim(dates[0], dates[-1])\n",
    "        axes[i][j].set_ylim(10000, None)\n",
    "\n",
    "        #axes[i][j].legend(loc='lower right', fontsize=axislegendsize)\n",
    "\n",
    "plt.savefig(out + 'time_series.png',\n",
    "            format=figsave_format, dpi=figsave_dpi,\n",
    "            facecolor='black', edgecolor='black')\n",
    "\n",
    "plt.show()"
   ]
  },
  {
   "cell_type": "markdown",
   "metadata": {},
   "source": [
    "### Calculating absolute price return and plotting its distribution and cumulative distribution"
   ]
  },
  {
   "cell_type": "code",
   "execution_count": null,
   "metadata": {},
   "outputs": [],
   "source": [
    "zwack_data['Return'] = zw_close - zw_close.shift()\n",
    "zwack_data['AbsReturn'] = np.abs(zw_close - zw_close.shift())\n",
    "\n",
    "zwack_data['ReturnPerc'] = zw_close.pct_change()\n",
    "zwack_data['AbsReturnPerc'] = np.abs(zw_close.pct_change())"
   ]
  },
  {
   "cell_type": "code",
   "execution_count": null,
   "metadata": {
    "scrolled": true
   },
   "outputs": [],
   "source": [
    "zwack_data.head()"
   ]
  },
  {
   "cell_type": "markdown",
   "metadata": {},
   "source": [
    "Plot the return values"
   ]
  },
  {
   "cell_type": "code",
   "execution_count": null,
   "metadata": {},
   "outputs": [],
   "source": [
    "nrows = 1\n",
    "ncols = 1\n",
    "fig, axes = plt.subplots(nrows=nrows, ncols=ncols, figsize=(ncols*18, nrows*10),\n",
    "                         facecolor='black', subplot_kw=dict(facecolor='black'))\n",
    "fig.subplots_adjust(hspace=0.25, wspace=0.15)\n",
    "\n",
    "fill_alpha = 0.2\n",
    "\n",
    "axes.plot(dates, zwack_data['Return'], label='Daily returns',\n",
    "          c='tab:olive', lw=3)\n",
    "axes.fill_between(dates, zwack_data['Return'],\n",
    "                  color='tab:olive', alpha=fill_alpha)\n",
    "\n",
    "# Source text\n",
    "axes.text(x=0.12, y=-0.17, s='Source of data: https://www.wsj.com/market-data/',\n",
    "                c='white', fontsize=13, fontweight='book',\n",
    "                horizontalalignment='center', verticalalignment='center', transform=axes.transAxes,\n",
    "                bbox=dict(facecolor='black', alpha=0.2, lw=0))\n",
    "\n",
    "axes.set_title('ZWC1 values -- {}'.format('Daily returns'), \n",
    "               fontsize=axistitlesize, fontweight='bold', color='white')\n",
    "\n",
    "axes.set_xlabel('Time', fontsize=axislabelsize, color='white')\n",
    "axes.set_ylabel('Values', fontsize=axislabelsize, color='white')\n",
    "\n",
    "axes.tick_params(axis='both', which='major', labelsize=axisticksize, colors='white')\n",
    "axes.set_xticks(dates[::date_jump])\n",
    "axes.set_xticklabels(dates[::date_jump], rotation=42, ha='center')\n",
    "\n",
    "# Should be placed after setting x-ticks!!!\n",
    "axes.set_xlim(dates[0], dates[-1])\n",
    "#axes.set_ylim(10000, None)\n",
    "\n",
    "#axes.legend(loc='lower right', fontsize=axislegendsize)\n",
    "\n",
    "#plt.savefig(out + 'time_series.png',\n",
    "#            format=figsave_format, dpi=figsave_dpi,\n",
    "#            facecolor='black', edgecolor='black')\n",
    "\n",
    "plt.show()"
   ]
  },
  {
   "cell_type": "markdown",
   "metadata": {},
   "source": [
    "Plotting the absolute price return and plotting its distribution"
   ]
  },
  {
   "cell_type": "code",
   "execution_count": null,
   "metadata": {},
   "outputs": [],
   "source": [
    "nrows = 1\n",
    "ncols = 2\n",
    "fig, axes = plt.subplots(nrows=nrows, ncols=ncols, figsize=(ncols*10, nrows*10))\n",
    "\n",
    "axes[0].hist(zwack_data['AbsReturn'], bins=40, alpha=0.5, density=True)\n",
    "axes[1].hist(zwack_data['AbsReturn'], bins=40, alpha=0.5, density=True, cumulative=True)\n",
    "\n",
    "axes[0].set_yscale('log')\n",
    "\n",
    "for i in range(ncols):\n",
    "    axes[i].set_xlabel('Abs. price return', fontsize=axislabelsize)\n",
    "    axes[i].set_ylabel('P(Abs. price return)', fontsize=axislabelsize)\n",
    "\n",
    "    axes[i].tick_params(axis='both', which='major', labelsize=axisticksize)\n",
    "\n",
    "plt.show()"
   ]
  },
  {
   "cell_type": "markdown",
   "metadata": {},
   "source": [
    "Calculation the mean and standard deviation of the return values"
   ]
  },
  {
   "cell_type": "code",
   "execution_count": null,
   "metadata": {},
   "outputs": [],
   "source": [
    "rtrn_mean = np.mean(zwack_data['Return'])\n",
    "rtrn_std = np.std(zwack_data['Return'])\n",
    "rtrn_mean_prc = np.mean(zwack_data['ReturnPerc'])\n",
    "rtrn_std_prc = np.std(zwack_data['ReturnPerc'])"
   ]
  },
  {
   "cell_type": "markdown",
   "metadata": {},
   "source": [
    "Plotting the real distribution of the return values"
   ]
  },
  {
   "cell_type": "code",
   "execution_count": null,
   "metadata": {},
   "outputs": [],
   "source": [
    "nrows = 1\n",
    "ncols = 2\n",
    "fig, axes = plt.subplots(nrows=nrows, ncols=ncols, figsize=(ncols*10, nrows*10))\n",
    "\n",
    "xrange = (-1000,1000)\n",
    "\n",
    "ha = axes[0].hist(zwack_data['Return'], bins=40, alpha=0.5, density=True)\n",
    "axes[1].hist(zwack_data['Return'], bins=40, alpha=0.5, density=True, cumulative=True)\n",
    "\n",
    "\n",
    "# Plot a PDF over the distribution\n",
    "# Calculate the parameters (mean and std)\n",
    "sigma_conf = 3.5\n",
    "x = np.linspace(rtrn_mean - sigma_conf*rtrn_std, rtrn_mean + sigma_conf*rtrn_std)\n",
    "axes[0].plot(x, norm.pdf(x, rtrn_mean, rtrn_std), label='Fitted PDF',\n",
    "             c='tab:red', lw=3)\n",
    "\n",
    "# Mean of PDF\n",
    "axes[0].axvline(x=rtrn_mean, label='Mean of returns',\n",
    "                color='black', ls='-.', lw=3, alpha=0.6)\n",
    "\n",
    "# Sigma conf\n",
    "colors = ['tab:green', 'tab:olive', 'tab:purple']\n",
    "for sig in range(1,4):\n",
    "    axes[0].axvline(x=sig*rtrn_std, label='${0} \\\\sigma$ conf.'.format(sig),\n",
    "                    color=colors[sig-1], ls='--', lw=3, alpha=0.6)\n",
    "    axes[0].axvline(x=-sig*rtrn_std,\n",
    "                    color=colors[sig-1], ls='--', lw=3, alpha=0.6)\n",
    "\n",
    "axes[0].set_xlim(-1000, 1000)\n",
    "    \n",
    "for i in range(ncols):\n",
    "    axes[i].set_xlabel('Price return', fontsize=axislabelsize)\n",
    "    axes[i].set_ylabel('P(Price return)', fontsize=axislabelsize)\n",
    "\n",
    "    axes[i].tick_params(axis='both', which='major', labelsize=axisticksize)\n",
    "\n",
    "axes[0].legend(loc='upper left', fontsize=axislegendsize)\n",
    "    \n",
    "plt.show()"
   ]
  },
  {
   "cell_type": "code",
   "execution_count": null,
   "metadata": {
    "scrolled": true
   },
   "outputs": [],
   "source": [
    "print('Expected value of return is {0:.3f} with sigma = {1:.3f}.'.format(rtrn_mean, rtrn_std))"
   ]
  },
  {
   "cell_type": "markdown",
   "metadata": {},
   "source": [
    "### Calculating daily std"
   ]
  },
  {
   "cell_type": "code",
   "execution_count": null,
   "metadata": {},
   "outputs": [],
   "source": [
    "zwack_data['DailyMean'] = [np.mean([zw_high[i], zw_low[i]]) for i in range(0, len(zwack_data))]\n",
    "zwack_data['DailyStd'] = [np.std([zw_high[i], zw_low[i]]) for i in range(0, len(zwack_data))]"
   ]
  },
  {
   "cell_type": "code",
   "execution_count": null,
   "metadata": {},
   "outputs": [],
   "source": [
    "zwack_data.head()"
   ]
  },
  {
   "cell_type": "markdown",
   "metadata": {},
   "source": [
    "## - Calculating VaR at 99% Confidence interval <br /> - Determining lower and upper VaR in the discrete distribution"
   ]
  },
  {
   "cell_type": "markdown",
   "metadata": {},
   "source": [
    "### VaR - Method I. - Normal distribution "
   ]
  },
  {
   "cell_type": "code",
   "execution_count": null,
   "metadata": {},
   "outputs": [],
   "source": [
    "# Calculating VaR from the theoretical normal distribution of return prices\n",
    "alpha = 0.99\n",
    "VaR_99 = norm.ppf(1-alpha, rtrn_mean, rtrn_std)"
   ]
  },
  {
   "cell_type": "code",
   "execution_count": null,
   "metadata": {
    "scrolled": true
   },
   "outputs": [],
   "source": [
    "print(tabulate([['99%', '+-{0:.3f} USD'.format(-VaR_99)]],\n",
    "               headers=['Confidence interval', 'Value-at-Risk']))"
   ]
  },
  {
   "cell_type": "markdown",
   "metadata": {},
   "source": [
    "The `+-` denotes the difference between definitions of VaR, whether it's defined positive, or negative."
   ]
  },
  {
   "cell_type": "code",
   "execution_count": null,
   "metadata": {},
   "outputs": [],
   "source": [
    "nrows = 1\n",
    "ncols = 1\n",
    "fig, axes = plt.subplots(nrows=nrows, ncols=ncols, figsize=(ncols*15, nrows*10))\n",
    "\n",
    "ha = axes.hist(zwack_data['Return'], bins=40, alpha=0.5, density=True)\n",
    "\n",
    "# Plot a PDF over the distribution\n",
    "# Calculate the parameters (mean and std)\n",
    "sigma_conf = 4\n",
    "x = np.linspace(rtrn_mean - sigma_conf*rtrn_std, rtrn_mean + sigma_conf*rtrn_std)\n",
    "axes.plot(x, norm.pdf(x, rtrn_mean, rtrn_std), label='Fitted PDF',\n",
    "             c='tab:red', lw=3)\n",
    "axes.fill_between(x[x<=VaR_99], norm.pdf(x[x<=VaR_99], rtrn_mean, rtrn_std),\n",
    "                  color='tab:orange', alpha=0.6, zorder=3)\n",
    "axes.fill_between(x[x>VaR_99], norm.pdf(x[x>VaR_99], rtrn_mean, rtrn_std),\n",
    "                  color='tab:grey', alpha=0.6, zorder=3)\n",
    "\n",
    "# Mark 99% VaR\n",
    "axes.axvline(x=VaR_99, label='Theor. 99% VaR',\n",
    "             color='tab:orange', ls='-.', lw=4, alpha=0.6)\n",
    "\n",
    "# Mean of PDF\n",
    "axes.axvline(x=rtrn_mean, label='Mean of returns',\n",
    "             color='black', ls='-.', lw=3, alpha=0.6)\n",
    "\n",
    "# Sigma conf\n",
    "colors = ['tab:green', 'tab:olive', 'tab:purple']\n",
    "for sig in range(1,4):\n",
    "    axes.axvline(x=sig*rtrn_std, label='${0} \\\\sigma$ conf.'.format(sig),\n",
    "                    color=colors[sig-1], ls='--', lw=3, alpha=0.6)\n",
    "    axes.axvline(x=-sig*rtrn_std,\n",
    "                    color=colors[sig-1], ls='--', lw=3, alpha=0.6)\n",
    "\n",
    "axes.set_xlim(-1000, 1000)\n",
    "axes.set_xlabel('Price return', fontsize=axislabelsize)\n",
    "axes.set_ylabel('P(Price return)', fontsize=axislabelsize)\n",
    "\n",
    "axes.tick_params(axis='both', which='major', labelsize=axisticksize)\n",
    "\n",
    "axes.legend(loc='upper left', fontsize=axislegendsize)\n",
    "    \n",
    "plt.show()"
   ]
  },
  {
   "cell_type": "markdown",
   "metadata": {},
   "source": [
    "By definiton, the 99% VaR describes our maximal loss on the investment with 99% confidence. According to my calculation, we lose maximally $390.937$ USD within 99% confidence if we approximate our return prices dataset with the normal distribution."
   ]
  },
  {
   "cell_type": "markdown",
   "metadata": {},
   "source": [
    "### VaR - Method II. - Using the actual dataset\n",
    "\n",
    "To find the discrete values (lower and upper VaR), which bounds this theoretical VaR value, we look at the original list of returns. We choose the bounding values from this list. For these calculations we use the definition of VaR, where it is a positive value."
   ]
  },
  {
   "cell_type": "code",
   "execution_count": null,
   "metadata": {},
   "outputs": [],
   "source": [
    "def VaR(X, alpha):\n",
    "    THRES = int(len(X) * (1-alpha))\n",
    "    VaR_lower = sorted(X)[THRES]\n",
    "    VaR_upper = sorted(X)[THRES+1]\n",
    "    \n",
    "    return VaR_upper, VaR_lower"
   ]
  },
  {
   "cell_type": "code",
   "execution_count": null,
   "metadata": {},
   "outputs": [],
   "source": [
    "alpha = 0.99\n",
    "VaR_99_upper, VaR_99_lower = VaR(X=zwack_data['Return'][1:], alpha=alpha)"
   ]
  },
  {
   "cell_type": "code",
   "execution_count": null,
   "metadata": {},
   "outputs": [],
   "source": [
    "print(tabulate([['Upper 99% VaR', '+-{0:.3f} USD'.format(-VaR_99_upper)],\n",
    "                ['Lower 99% VaR', '+-{0:.3f} USD'.format(-VaR_99_lower)]],\n",
    "               headers=['Confidence interval', 'Value-at-Risk']))"
   ]
  },
  {
   "cell_type": "markdown",
   "metadata": {},
   "source": [
    "Also by the definition given on the lecture, we should multiply these VaR values by -1 to get the necessary VaR values in question. That's how we get positive numbers for our lower and upper VaR."
   ]
  },
  {
   "cell_type": "markdown",
   "metadata": {},
   "source": [
    "## - Calculating CVaR/ES at 95% Confidence interval <br/> - Determining lower and upper CVaR in the discrete distribution\n",
    "\n",
    "By definition the $\\alpha\\%$ CVaR, also called as Expected shortfall is the expected value of the values that fall beyond the VaR. It can be formulated as follows:\n",
    "\n",
    "$$\n",
    "\\text{CVaR}\n",
    "=\n",
    "\\frac{1}{1 - \\alpha}\n",
    "\\int_{-\\,\\infty}^{\\text{VaR}} x\\, p\\left( x \\right)\\,\\text{d}x\n",
    "$$\n",
    "\n",
    "or with probabilities instead of real values:\n",
    "\n",
    "$$\n",
    "\\text{CVaR}\n",
    "=\n",
    "\\frac{1}{1 - \\alpha}\n",
    "\\int_{-1}^{\\text{VaR}} x\\, p\\left( x \\right)\\,\\text{d}x\n",
    "$$\n",
    "\n",
    "#### Source\n",
    "https://www.investopedia.com/terms/c/conditional_value_at_risk.asp"
   ]
  },
  {
   "cell_type": "markdown",
   "metadata": {},
   "source": [
    "### CVaR - Method I. - Normal distribution \n",
    "\n",
    "First we need to calculate the $95\\%$ VaR to get the $95\\%$ CVaR from its value. First just do it using the normal distribution."
   ]
  },
  {
   "cell_type": "code",
   "execution_count": null,
   "metadata": {},
   "outputs": [],
   "source": [
    "# Calculating VaR from the theoretical normal distribution of return prices\n",
    "alpha = 0.95\n",
    "VaR_95 = norm.ppf(1-alpha, rtrn_mean, rtrn_std)"
   ]
  },
  {
   "cell_type": "code",
   "execution_count": null,
   "metadata": {},
   "outputs": [],
   "source": [
    "print(tabulate([['95%', '+-{0:.3f} USD'.format(-VaR_95)]],\n",
    "               headers=['Confidence interval', 'Value-at-Risk']))"
   ]
  },
  {
   "cell_type": "markdown",
   "metadata": {},
   "source": [
    "Now with symbolic integration we can calculate the integral above at the definition of the CVaR."
   ]
  },
  {
   "cell_type": "code",
   "execution_count": null,
   "metadata": {},
   "outputs": [],
   "source": [
    "import sympy as sp"
   ]
  },
  {
   "cell_type": "code",
   "execution_count": null,
   "metadata": {},
   "outputs": [],
   "source": [
    "x = sp.Symbol('x')\n",
    "alpha = sp.Symbol('\\\\alpha')\n",
    "mu = sp.Symbol('\\\\mu')\n",
    "sigma = sp.Symbol('\\\\sigma')"
   ]
  },
  {
   "cell_type": "code",
   "execution_count": null,
   "metadata": {},
   "outputs": [],
   "source": [
    "result = sp.integrate(x * sp.exp(-1/2 * ((x - mu)/sigma)**2), (x, -sp.oo, VaR_95))"
   ]
  },
  {
   "cell_type": "code",
   "execution_count": null,
   "metadata": {},
   "outputs": [],
   "source": [
    "CVaR_95 = (1/(1-alpha) * 1/(sigma * sp.sqrt(2 * sp.pi)) * result).evalf(subs={alpha: 0.95,\n",
    "                                                                              mu: rtrn_mean,\n",
    "                                                                              sigma: rtrn_std})"
   ]
  },
  {
   "cell_type": "code",
   "execution_count": null,
   "metadata": {},
   "outputs": [],
   "source": [
    "print(tabulate([['95%', '+-{0:.3f} USD'.format(-float(CVaR_95))]],\n",
    "               headers=['Confidence interval', 'Conf. Value-at-Risk']))"
   ]
  },
  {
   "cell_type": "markdown",
   "metadata": {},
   "source": [
    "In absolute value, CVaR should be always higher, than VaR, like here."
   ]
  },
  {
   "cell_type": "markdown",
   "metadata": {},
   "source": [
    "### CVaR - Method II. - Using the actual dataset \n",
    "\n",
    "To calculate the actual lower and upper CVaR according to the lecture, we should calculate the expected value of price returns less or equal as the lower, or upper VaR values respectively. First we should calculate the lower and upper 95% VaR values for this."
   ]
  },
  {
   "cell_type": "code",
   "execution_count": null,
   "metadata": {},
   "outputs": [],
   "source": [
    "alpha = 0.95\n",
    "VaR_95_upper, VaR_95_lower = VaR(X=zwack_data['Return'][1:], alpha=alpha)"
   ]
  },
  {
   "cell_type": "code",
   "execution_count": null,
   "metadata": {},
   "outputs": [],
   "source": [
    "print(tabulate([['Upper 95% VaR', '{0:.3f} USD'.format(-VaR_95_upper)],\n",
    "                ['Lower 95% VaR', '{0:.3f} USD'.format(-VaR_95_lower)]],\n",
    "               headers=['Confidence interval', 'Value-at-Risk']))"
   ]
  },
  {
   "cell_type": "markdown",
   "metadata": {},
   "source": [
    "Now move onto the upper- and lower CVaR calculation, which according to the lecture is the following:\n",
    "\n",
    "$$\n",
    "\\text{CVaR}^{\\alpha} \\left( X \\right) = - \\mathbb{E} \\left[ X | X \\leq \\text{VaR}^{\\alpha} \\left( X \\right) \\right]\n",
    "$$\n",
    "$$\n",
    "\\text{CVaR}_{\\alpha} \\left( X \\right) = - \\mathbb{E} \\left[ X | X < \\text{VaR}^{\\alpha} \\left( X \\right) \\right]\n",
    "$$"
   ]
  },
  {
   "cell_type": "code",
   "execution_count": null,
   "metadata": {},
   "outputs": [],
   "source": [
    "CVaR_95_upper_idx = np.where(zwack_data['Return'][1:].sort_values() <= VaR_95_upper)[0]\n",
    "CVaR_95_lower_idx = np.where(zwack_data['Return'][1:].sort_values() < VaR_95_upper)[0]"
   ]
  },
  {
   "cell_type": "markdown",
   "metadata": {},
   "source": [
    "To get the correct (normalized) expected value of this slice of the distribution, which could be done also by summation over the discrete values."
   ]
  },
  {
   "cell_type": "code",
   "execution_count": null,
   "metadata": {},
   "outputs": [],
   "source": [
    "def normal(X, mu, sigma):\n",
    "    \"\"\"\n",
    "    Returns the value of the normal distribution in the given points.\n",
    "    \"\"\"\n",
    "    return 1/(sigma*np.sqrt(2*np.pi)) * np.exp(-1/2 * ((X - mu)/sigma)**2)"
   ]
  },
  {
   "cell_type": "code",
   "execution_count": null,
   "metadata": {},
   "outputs": [],
   "source": [
    "CVaR_95_upper_vals = zwack_data['Return'][1:].sort_values().iloc[CVaR_95_upper_idx]\n",
    "CVaR_95_lower_vals = zwack_data['Return'][1:].sort_values().iloc[CVaR_95_lower_idx]"
   ]
  },
  {
   "cell_type": "markdown",
   "metadata": {},
   "source": [
    "#### Method II./a) Normalize by normal distribution"
   ]
  },
  {
   "cell_type": "code",
   "execution_count": null,
   "metadata": {
    "scrolled": true
   },
   "outputs": [],
   "source": [
    "# Normalizing constant, because P(x) values in the formula of the\n",
    "# discrete expected value calculation should sum up to 1.\n",
    "normed_up = 1/np.sum(normal(CVaR_95_upper_vals, mu=rtrn_mean, sigma=rtrn_std))\n",
    "normed_lw = 1/np.sum(normal(CVaR_95_lower_vals, mu=rtrn_mean, sigma=rtrn_std))\n",
    "# Calculating upper and lower CVaR\n",
    "CVaR_95_upper = np.sum(CVaR_95_upper_vals * normal(CVaR_95_upper_vals, mu=rtrn_mean, sigma=rtrn_std)) * normed_up\n",
    "CVaR_95_lower = np.sum(CVaR_95_lower_vals * normal(CVaR_95_lower_vals, mu=rtrn_mean, sigma=rtrn_std)) * normed_lw"
   ]
  },
  {
   "cell_type": "code",
   "execution_count": null,
   "metadata": {},
   "outputs": [],
   "source": [
    "print(tabulate([['Upper 95% CVaR', '+-{0:.3f} USD'.format(-CVaR_95_upper)],\n",
    "                ['Lower 95% CVaR', '+-{0:.3f} USD'.format(-CVaR_95_lower)]],\n",
    "               headers=['Confidence interval', 'Conf. Value-at-Risk']))"
   ]
  },
  {
   "cell_type": "markdown",
   "metadata": {},
   "source": [
    "#### Method II./b) Simple average"
   ]
  },
  {
   "cell_type": "code",
   "execution_count": null,
   "metadata": {},
   "outputs": [],
   "source": [
    "CVaR_95_upper = np.mean(CVaR_95_upper_vals)\n",
    "CVaR_95_lower = np.mean(CVaR_95_lower_vals)"
   ]
  },
  {
   "cell_type": "code",
   "execution_count": null,
   "metadata": {},
   "outputs": [],
   "source": [
    "print(tabulate([['Upper 95% CVaR', '+-{0:.3f} USD'.format(-CVaR_95_upper)],\n",
    "                ['Lower 95% CVaR', '+-{0:.3f} USD'.format(-CVaR_95_lower)]],\n",
    "               headers=['Confidence interval', 'Conf. Value-at-Risk']))"
   ]
  },
  {
   "cell_type": "markdown",
   "metadata": {},
   "source": [
    "## Expected shortfall at 95% confidence level\n",
    "\n",
    "It is the average of the values that fall beyond the 5% of all return prices."
   ]
  },
  {
   "cell_type": "code",
   "execution_count": null,
   "metadata": {},
   "outputs": [],
   "source": [
    "alpha = 0.95\n",
    "THRES = int(len(zwack_data['Return'][1:]) * (1-alpha))\n",
    "\n",
    "ES_95 = np.mean(sorted(zwack_data['Return'][1:])[:THRES+1])"
   ]
  },
  {
   "cell_type": "code",
   "execution_count": null,
   "metadata": {},
   "outputs": [],
   "source": [
    "print(tabulate([['95% ES', '+-{0:.3f} USD'.format(-ES_95)]],\n",
    "               headers=['Confidence interval', 'Expected Shortfall']))"
   ]
  },
  {
   "cell_type": "code",
   "execution_count": null,
   "metadata": {},
   "outputs": [],
   "source": []
  }
 ],
 "metadata": {
  "kernelspec": {
   "display_name": "Python 3 (ipykernel)",
   "language": "python",
   "name": "python3"
  },
  "language_info": {
   "codemirror_mode": {
    "name": "ipython",
    "version": 3
   },
   "file_extension": ".py",
   "mimetype": "text/x-python",
   "name": "python",
   "nbconvert_exporter": "python",
   "pygments_lexer": "ipython3",
   "version": "3.9.10"
  }
 },
 "nbformat": 4,
 "nbformat_minor": 4
}
