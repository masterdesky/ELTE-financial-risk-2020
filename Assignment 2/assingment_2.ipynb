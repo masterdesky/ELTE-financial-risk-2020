{
 "cells": [
  {
   "cell_type": "markdown",
   "metadata": {},
   "source": [
    "# Assingment 2\n",
    "\n",
    "What is the price of a floating strike lookback call option on a non-dividend-paying stock when the stock price is $\\$52$, the risk-free interest rate is $12\\%$ per annum, the volatility is $30\\%$ per annum, the time to maturity is $3$ months?\n",
    "\n",
    "- Write a Monte-Carlo simulation in Python using geometric Brownian motion as the underlying stochastic process, with and without using antithetic variates. Estimate the option price using a time grid of 1 day and 100000 trajectories. Estimate the Monte Carlo error.\n",
    "\n",
    "Use Python and send your Jupyter notebook containing your results."
   ]
  },
  {
   "cell_type": "markdown",
   "metadata": {},
   "source": [
    "## Solution\n",
    "\n",
    "A stochastic process $S_{t}$ is said to follow a geometric Brownian motion (GMB) if it satisfies the following stochastic differential equation:\n",
    "\n",
    "$$\n",
    "d S_{t}\n",
    "=\n",
    "\\sigma S_{t} d W_{t} + \\mu S_{t} dt\n",
    "$$\n",
    "\n",
    "Where the diffusion constant, or volatility $\\sigma$ and the drift $\\mu$ are constants. $W_{t}$ is the Wiener process or the Brownian motion. For an arbitrary initial value $S_{0}$ the above equation has the analytic solution\n",
    "\n",
    "$$\n",
    "S_{t}\n",
    "=\n",
    "S_{0} \\cdot \\exp{\\left( \\left( \\mu - \\frac{\\sigma^{2}}{2} \\right) dt + \\sigma W_{t} \\right)}\n",
    "\\equiv\n",
    "S_{0} \\cdot \\exp{\\left( \\left( r - \\frac{\\sigma^{2}}{2} \\right) \\left( T - t \\right) + \\sigma W_{t} \\right)}\n",
    "$$\n",
    "\n",
    "In the context of the financial assignment, the notation is the following:\n",
    "- $S_t$ is the spot price of the underlying asset\n",
    "- $T - t$ is the time to maturity (expressed in years)\n",
    "- $r \\equiv \\mu$ is the risk free rate (annual rate, expressed in terms of continuous compounding)\n",
    "- $\\sigma$ is the volatility of returns of the underlying asset\n",
    "\n",
    "The $W_{t}$ process is interpeted here as a Brownian motion, dependent of the standard normal distribution:\n",
    "\n",
    "$$\n",
    "W_{t}\n",
    "=\n",
    "\\sqrt{T - t} \\cdot \\epsilon\n",
    "$$\n",
    "\n",
    "Where $\\epsilon$ is a random normal variable.\n",
    "\n",
    "#### Sources\n",
    "- https://github.com/yhilpisch/py4fi/blob/master/jupyter36/11_Statistics_a.ipynb\n",
    "- https://en.wikipedia.org/wiki/Geometric_Brownian_motion"
   ]
  },
  {
   "cell_type": "code",
   "execution_count": null,
   "metadata": {},
   "outputs": [],
   "source": [
    "import numpy as np\n",
    "from scipy.stats import norm\n",
    "\n",
    "import seaborn as sns\n",
    "import matplotlib as mpl\n",
    "import matplotlib.cm as cm\n",
    "import matplotlib.pyplot as plt"
   ]
  },
  {
   "cell_type": "markdown",
   "metadata": {},
   "source": [
    "#### Just some matplotlib and seaborn parameter tuning"
   ]
  },
  {
   "cell_type": "code",
   "execution_count": null,
   "metadata": {},
   "outputs": [],
   "source": [
    "# Set axtick dimensions\n",
    "major_size = 6\n",
    "major_width = 1.2\n",
    "minor_size = 3\n",
    "minor_width = 1\n",
    "mpl.rcParams['xtick.major.size'] = major_size\n",
    "mpl.rcParams['xtick.major.width'] = major_width\n",
    "mpl.rcParams['xtick.minor.size'] = minor_size\n",
    "mpl.rcParams['xtick.minor.width'] = minor_width\n",
    "mpl.rcParams['ytick.major.size'] = major_size\n",
    "mpl.rcParams['ytick.major.width'] = major_width\n",
    "mpl.rcParams['ytick.minor.size'] = minor_size\n",
    "mpl.rcParams['ytick.minor.width'] = minor_width\n",
    "\n",
    "# Seaborn style settings\n",
    "sns.set_style({'axes.axisbelow': True,\n",
    "               'axes.edgecolor': '.1',\n",
    "               'axes.facecolor': 'white',\n",
    "               'axes.grid': True,\n",
    "               'axes.labelcolor': '.15',\n",
    "               'axes.spines.bottom': True,\n",
    "               'axes.spines.left': True,\n",
    "               'axes.spines.right': True,\n",
    "               'axes.spines.top': True,\n",
    "               'figure.facecolor': 'white',\n",
    "               'font.family': ['sans-serif'],\n",
    "               'font.sans-serif': ['Arial',\n",
    "                'DejaVu Sans',\n",
    "                'Liberation Sans',\n",
    "                'Bitstream Vera Sans',\n",
    "                'sans-serif'],\n",
    "               'grid.color': '.8',\n",
    "               'grid.linestyle': '--',\n",
    "               'image.cmap': 'rocket',\n",
    "               'lines.solid_capstyle': 'round',\n",
    "               'patch.edgecolor': 'w',\n",
    "               'patch.force_edgecolor': True,\n",
    "               'text.color': '.15',\n",
    "               'xtick.bottom': True,\n",
    "               'xtick.color': '.15',\n",
    "               'xtick.direction': 'in',\n",
    "               'xtick.top': True,\n",
    "               'ytick.color': '.15',\n",
    "               'ytick.direction': 'in',\n",
    "               'ytick.left': True,\n",
    "               'ytick.right': True})"
   ]
  },
  {
   "cell_type": "markdown",
   "metadata": {},
   "source": [
    "In the book Yves Hilpisch - Python for Finance, in chapter 11 there is a simple Python code proposed to implement the path generation of the geometric Brownian motion. The code is the following:"
   ]
  },
  {
   "cell_type": "code",
   "execution_count": null,
   "metadata": {},
   "outputs": [],
   "source": [
    "def gen_paths(S_0, r, sigma, T, N, i):\n",
    "    ''' Generate Monte Carlo paths for geometric Brownian motion.\n",
    "    \n",
    "    Parameters\n",
    "    ==========\n",
    "    S_0 : float\n",
    "        initial stock/index value\n",
    "    r : float\n",
    "        constant short rate\n",
    "    sigma : float\n",
    "        constant volatility\n",
    "    T : float\n",
    "        final time horizon\n",
    "    N : int\n",
    "        number of time steps/intervals\n",
    "    i : int\n",
    "        number of paths to be simulated\n",
    "        \n",
    "    Returns\n",
    "    =======\n",
    "    paths : ndarray, shape (N + 1, i)\n",
    "        simulated paths given the parameters\n",
    "    '''\n",
    "    paths = np.zeros((N + 1, i))\n",
    "    \n",
    "    # Calculate the time step\n",
    "    dt = T / N\n",
    "    \n",
    "    # First value should be our starting S_0 price\n",
    "    paths[0] = S_0\n",
    "    \n",
    "    for t in range(1, N + 1):\n",
    "        # Choose 'i' number of random number from the standard normal distribution\n",
    "        eps = np.random.standard_normal(i)\n",
    "        # Optionally we can normalize these raw values as the book does\n",
    "        # Here we are calculating the \n",
    "        eps = (eps - eps.mean()) / eps.std()\n",
    "\n",
    "        paths[t] = paths[t - 1] * np.exp((r - 1/2 * sigma**2) * dt + sigma * np.sqrt(dt) * eps)\n",
    "    \n",
    "    return paths"
   ]
  },
  {
   "cell_type": "markdown",
   "metadata": {},
   "source": [
    "### Generate and visualize paths"
   ]
  },
  {
   "cell_type": "code",
   "execution_count": null,
   "metadata": {},
   "outputs": [],
   "source": [
    "S_0 = 52\n",
    "K = 50\n",
    "T = 3/12\n",
    "r = 0.12\n",
    "sigma = 0.3\n",
    "N = int(365 * T)  # Let us consider approx. daily updates\n",
    "i = 100000\n",
    "S_t = gen_paths(S_0, r, sigma, T, N, i)"
   ]
  },
  {
   "cell_type": "code",
   "execution_count": null,
   "metadata": {},
   "outputs": [],
   "source": [
    "nrows = 1\n",
    "ncols = 1\n",
    "fig, axes = plt.subplots(nrows=nrows, ncols=ncols, figsize=(ncols*15, nrows*8))\n",
    "\n",
    "axislabelsize = 18\n",
    "axisticksize = 15\n",
    "axislegendsize = 18\n",
    "\n",
    "axes.plot(S_t, lw=2.5, alpha=0.5)\n",
    "\n",
    "axes.set_xlim(None, N)\n",
    "\n",
    "axes.set_xlabel('$t$ [steps]', fontsize=axislabelsize)\n",
    "axes.set_ylabel('Price of option [USD]', fontsize=axislabelsize)\n",
    "axes.tick_params(axis='both', which='major', labelsize=axisticksize)\n",
    "\n",
    "plt.show()"
   ]
  },
  {
   "cell_type": "markdown",
   "metadata": {},
   "source": [
    "## Classical estimate"
   ]
  },
  {
   "cell_type": "code",
   "execution_count": null,
   "metadata": {},
   "outputs": [],
   "source": [
    "S_t_exp = np.mean(S_t[-1])\n",
    "S_t_std = np.std(S_t[-1])\n",
    "print(('With dt = {0:.3f} days and {1} number of trajetories, we estimate the' +\n",
    "       ' S_t price to be S_t = {2:.3f} USD +- {3:.3f} USD.').format(365 * T/N, i, S_t_exp, S_t_std))\n",
    "print('Where the error of the simulation is approximately {0:.3f} USD'.format(S_t_std))"
   ]
  },
  {
   "cell_type": "code",
   "execution_count": null,
   "metadata": {},
   "outputs": [],
   "source": [
    "S_t_var = np.var(S_t[-1])\n",
    "print('Variance with the classical estimate is {0:.3f} USD^2.'. format(S_t_var))"
   ]
  },
  {
   "cell_type": "code",
   "execution_count": null,
   "metadata": {},
   "outputs": [],
   "source": [
    "# Apply the payoff formula of the floating strike lookback call option for all of the end points\n",
    "# payoff = max(S_t - S_min, 0)\n",
    "payoffs = [np.max([s_t - np.min(S_t[:,idx]), 0]) for idx, s_t in enumerate(S_t[-1])]\n",
    "# Estimated payoff will be average of these\n",
    "payoffs_avg = np.mean(payoffs)\n",
    "print('The payoff is estimated to be {0:.3f} USD'.format(payoffs_avg))"
   ]
  },
  {
   "cell_type": "markdown",
   "metadata": {},
   "source": [
    "## Variance reduction with antithetic variates "
   ]
  },
  {
   "cell_type": "code",
   "execution_count": null,
   "metadata": {},
   "outputs": [],
   "source": [
    "# Our anthitetic estimator should have normal distribution\n",
    "# with mean, E[S_t] and standard deviation sigma[S_t], which\n",
    "# values are calculated in the classical example\n",
    "S_anti = np.random.normal(loc=S_t_exp, scale=S_t_std, size=len(S_t[-1]))\n",
    "\n",
    "# Combined estimator\n",
    "S_comb = (S_t[-1] + S_anti) / 2"
   ]
  },
  {
   "cell_type": "code",
   "execution_count": null,
   "metadata": {},
   "outputs": [],
   "source": [
    "S_t_exp_comb = np.mean(S_comb)\n",
    "S_t_std_comb = np.std(S_comb)\n",
    "print(('With dt = {0:.3f} days and {1} number of trajetories, we estimate the' +\n",
    "       ' S_t price to be S_t = {2:.3f} USD +- {3:.3f} USD.').format(365 * T/N, i, S_t_exp_comb, S_t_std_comb))\n",
    "print('Where the error of the simulation is approximately {0:.3f} USD'.format(S_t_std_comb))"
   ]
  },
  {
   "cell_type": "code",
   "execution_count": null,
   "metadata": {
    "scrolled": true
   },
   "outputs": [],
   "source": [
    "S_t_var_comb = np.var(S_comb)\n",
    "print('Variance with the antithetic estimate is {0:.3f} USD^2.'. format(S_t_var_comb))"
   ]
  },
  {
   "cell_type": "markdown",
   "metadata": {},
   "source": [
    "Corrected the line `np.max(s_t - np.min(S_t[:,idx])` to `np.max([s_t - np.min(S_t[:,idx], 0])`"
   ]
  },
  {
   "cell_type": "code",
   "execution_count": null,
   "metadata": {},
   "outputs": [],
   "source": [
    "# Apply the payoff formula of the floating strike lookback call option for all of the end points\n",
    "# payoff = max(S_t - S_min, 0)\n",
    "payoffs_comb = [np.max([s_t - np.min(S_t[:,idx]), 0]) for idx, s_t in enumerate(S_comb)]\n",
    "# Estimated payoff will be average of these\n",
    "payoffs_avg_comb = np.mean(payoffs_comb)\n",
    "print('The payoff is estimated to be {0:.3f} USD'.format(payoffs_avg_comb))"
   ]
  }
 ],
 "metadata": {
  "kernelspec": {
   "display_name": "Python 3 (ipykernel)",
   "language": "python",
   "name": "python3"
  },
  "language_info": {
   "codemirror_mode": {
    "name": "ipython",
    "version": 3
   },
   "file_extension": ".py",
   "mimetype": "text/x-python",
   "name": "python",
   "nbconvert_exporter": "python",
   "pygments_lexer": "ipython3",
   "version": "3.9.10"
  }
 },
 "nbformat": 4,
 "nbformat_minor": 4
}
