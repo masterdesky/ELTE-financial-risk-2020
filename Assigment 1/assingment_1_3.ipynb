{
 "cells": [
  {
   "cell_type": "markdown",
   "metadata": {},
   "source": [
    "# Assingment 1/3\n",
    "\n",
    "What is the price of a European call option on a non-dividend-paying stock when the stock price is $\\$52$, the strike is $\\$50$, the risk-free interest rate is $12\\%$ per annum, the volatility is $30\\%$ per annum, the time to maturity is $3$ months?\n",
    "\n",
    "- Write a Monte-Carlo simulation in Python using geometric Brownian motion as the underlying stochastic process. Estimate the option price using a time grid of 1 day and 1000 trajectories. Estimate the Monte Carlo error.  \n",
    "\n",
    "Use Python and send your Jupyter notebook containing your results (further assignments will use this notebook)."
   ]
  },
  {
   "cell_type": "code",
   "execution_count": null,
   "metadata": {},
   "outputs": [],
   "source": []
  }
 ],
 "metadata": {
  "kernelspec": {
   "display_name": "Python 3",
   "language": "python",
   "name": "python3"
  },
  "language_info": {
   "codemirror_mode": {
    "name": "ipython",
    "version": 3
   },
   "file_extension": ".py",
   "mimetype": "text/x-python",
   "name": "python",
   "nbconvert_exporter": "python",
   "pygments_lexer": "ipython3",
   "version": "3.7.6"
  }
 },
 "nbformat": 4,
 "nbformat_minor": 4
}
