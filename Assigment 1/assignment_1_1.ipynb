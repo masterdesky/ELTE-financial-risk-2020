{
 "cells": [
  {
   "cell_type": "markdown",
   "metadata": {},
   "source": [
    "# Assignment 1/1\n",
    "\n",
    "What is the price of a European call option on a non-dividend-paying stock when the stock price is $\\$52$, the strike is $\\$50$, the risk-free interest rate is $12\\%$ per annum, the volatility is $30\\%$ per annum, the time to maturity is $3$ months?\n",
    "\n",
    "- Apply the Black-Scholes option pricing formula to calculate the price.  \n",
    "\n",
    "Use Python and send your Jupyter notebook containing your results (further assignments will use this notebook)."
   ]
  },
  {
   "cell_type": "code",
   "execution_count": null,
   "metadata": {},
   "outputs": [],
   "source": []
  }
 ],
 "metadata": {
  "kernelspec": {
   "display_name": "Python 3",
   "language": "python",
   "name": "python3"
  },
  "language_info": {
   "codemirror_mode": {
    "name": "ipython",
    "version": 3
   },
   "file_extension": ".py",
   "mimetype": "text/x-python",
   "name": "python",
   "nbconvert_exporter": "python",
   "pygments_lexer": "ipython3",
   "version": "3.7.6"
  }
 },
 "nbformat": 4,
 "nbformat_minor": 4
}
