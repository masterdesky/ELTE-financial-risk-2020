{
 "cells": [
  {
   "cell_type": "markdown",
   "metadata": {},
   "source": [
    "# Assignment 1/2\n",
    "\n",
    "What is the price of a European call option on a non-dividend-paying stock when the stock price is $\\$52$, the strike is $\\$50$, the risk-free interest rate is $12\\%$ per annum, the volatility is $30\\%$ per annum, the time to maturity is $3$ months?\n",
    "\n",
    "- Build and use a binomial tree with\n",
    "    - 1 step\n",
    "    - 2 steps\n",
    "    - 3 steps\n",
    "    - n steps to calculate approximate option prices. Compare to the formula result in Assignment 1/3. Analyze the scaling to the Black-Scholes formula result. \n",
    "\n",
    "Use Python and send your Jupyter notebook containing your results (further assignments will use this notebook)."
   ]
  },
  {
   "cell_type": "code",
   "execution_count": null,
   "metadata": {},
   "outputs": [],
   "source": []
  }
 ],
 "metadata": {
  "kernelspec": {
   "display_name": "Python 3",
   "language": "python",
   "name": "python3"
  },
  "language_info": {
   "codemirror_mode": {
    "name": "ipython",
    "version": 3
   },
   "file_extension": ".py",
   "mimetype": "text/x-python",
   "name": "python",
   "nbconvert_exporter": "python",
   "pygments_lexer": "ipython3",
   "version": "3.7.6"
  }
 },
 "nbformat": 4,
 "nbformat_minor": 4
}
