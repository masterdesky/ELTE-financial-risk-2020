{
 "cells": [
  {
   "cell_type": "markdown",
   "metadata": {},
   "source": [
    "# Assignment 1/1\n",
    "\n",
    "What is the price of a European call option on a non-dividend-paying stock when the stock price is $\\$52$, the strike is $\\$50$, the risk-free interest rate is $12\\%$ per annum, the volatility is $30\\%$ per annum, the time to maturity is $3$ months?\n",
    "\n",
    "- Apply the Black-Scholes option pricing formula to calculate the price.  \n",
    "\n",
    "Use Python and send your Jupyter notebook containing your results (further assignments will use this notebook)."
   ]
  },
  {
   "cell_type": "markdown",
   "metadata": {},
   "source": [
    "## Solution\n",
    "\n",
    "The Black–Scholes formula calculates the price of European put and call options. This formula can be obtained by solving the Black–Scholes differential equation for the corresponding terminal and boundary conditions.\n",
    "\n",
    "The value of a call option for a non-dividend-paying underlying stock in terms of the Black–Scholes parameters is:\n",
    "\n",
    "$$\n",
    "C \\left( S_{t}, t \\right)\n",
    "=\n",
    "N \\left( d_{1} \\right) S_{t} - N \\left( d_{2} \\right) PV \\left( K \\right)\n",
    "$$\n",
    "\n",
    "Where the parameters \n",
    "$$\n",
    "d_{1}\n",
    "=\n",
    "\\frac{1}{\\sigma \\sqrt{T - t}} \\left[ \\ln \\left( \\frac{S_{t}}{K} \\right)\n",
    "+ \\left(r + \\frac{\\sigma^{2}}{2}\\right) \\left( T - t \\right) \\right]\n",
    "$$\n",
    "\n",
    "$$\n",
    "d_{2}\n",
    "=\n",
    "d_{1} - \\sigma \\sqrt{T - t}\n",
    "$$\n",
    "\n",
    "$$\n",
    "PV(K)\n",
    "=\n",
    "K e^{-r \\left( T - t \\right)}\n",
    "$$\n",
    "\n",
    "The notation is the following:\n",
    "* $N(\\cdot)$ is the cumulative distribution function of the standard normal distribution\n",
    "* $T - t$ is the time to maturity (expressed in years)\n",
    "* $S_t$ is the spot price of the underlying asset\n",
    "* $K$ is the strike price\n",
    "* $r$ is the risk free rate (annual rate, expressed in terms of continuous compounding)\n",
    "* $\\sigma$ is the volatility of returns of the underlying asset\n",
    "\n",
    "#### Source\n",
    "https://en.wikipedia.org/wiki/Black%E2%80%93Scholes_model"
   ]
  },
  {
   "cell_type": "code",
   "execution_count": null,
   "metadata": {},
   "outputs": [],
   "source": [
    "import numpy as np\n",
    "from scipy.stats import norm"
   ]
  },
  {
   "cell_type": "code",
   "execution_count": null,
   "metadata": {},
   "outputs": [],
   "source": [
    "def euro_option_bs_price(S_t, K, T, r, sigma):\n",
    "    \n",
    "    d_1 = 1/(sigma * np.sqrt(T)) * (np.log(S_t / K) + (r + sigma**2 / 2) * T)\n",
    "    d_2 = d_1 - sigma * np.sqrt(T)\n",
    "    \n",
    "    PV = K * np.exp(-r * T)\n",
    "    \n",
    "    C = norm.cdf(d_1) * S_t - norm.cdf(d_2) * PV\n",
    "    \n",
    "    return C"
   ]
  },
  {
   "cell_type": "code",
   "execution_count": null,
   "metadata": {},
   "outputs": [],
   "source": [
    "S_t = 52\n",
    "K = 50\n",
    "T = 3/12\n",
    "r = 0.12\n",
    "sigma = 0.3\n",
    "C = euro_option_bs_price(S_t, K, T, r, sigma)"
   ]
  },
  {
   "cell_type": "code",
   "execution_count": null,
   "metadata": {},
   "outputs": [],
   "source": [
    "print('The price of the call option at maturity is ${0:.4f}'.format(C))"
   ]
  },
  {
   "cell_type": "code",
   "execution_count": null,
   "metadata": {},
   "outputs": [],
   "source": []
  }
 ],
 "metadata": {
  "kernelspec": {
   "display_name": "Python 3 (ipykernel)",
   "language": "python",
   "name": "python3"
  },
  "language_info": {
   "codemirror_mode": {
    "name": "ipython",
    "version": 3
   },
   "file_extension": ".py",
   "mimetype": "text/x-python",
   "name": "python",
   "nbconvert_exporter": "python",
   "pygments_lexer": "ipython3",
   "version": "3.9.10"
  }
 },
 "nbformat": 4,
 "nbformat_minor": 4
}
