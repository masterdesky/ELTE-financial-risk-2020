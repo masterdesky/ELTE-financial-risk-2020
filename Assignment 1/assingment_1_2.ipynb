{
 "cells": [
  {
   "cell_type": "markdown",
   "metadata": {},
   "source": [
    "# Assignment 1/2\n",
    "\n",
    "What is the price of a European call option on a non-dividend-paying stock when the stock price is $\\$52$, the strike is $\\$50$, the risk-free interest rate is $12\\%$ per annum, the volatility is $30\\%$ per annum, the time to maturity is $3$ months?\n",
    "\n",
    "- Build and use a binomial tree with\n",
    "    - 1 step\n",
    "    - 2 steps\n",
    "    - 3 steps\n",
    "    - n steps to calculate approximate option prices. Compare to the formula result in Assignment 1/3. Analyze the scaling to the Black-Scholes formula result. \n",
    "\n",
    "Use Python and send your Jupyter notebook containing your results (further assignments will use this notebook)."
   ]
  },
  {
   "cell_type": "markdown",
   "metadata": {},
   "source": [
    "## Solution\n",
    "\n",
    "Evaluation of the price of an option with binomial trees is a three step process:\n",
    "\n",
    "1. Creation of the binomial price tree\n",
    "2. Calculation of option value at each final node\n",
    "3. Sequential calculation of the option value at each preceding node\n",
    "\n",
    "#### Source\n",
    "https://en.wikipedia.org/wiki/Binomial_options_pricing_model"
   ]
  },
  {
   "cell_type": "code",
   "execution_count": null,
   "metadata": {},
   "outputs": [],
   "source": [
    "import numpy as np\n",
    "\n",
    "import seaborn as sns\n",
    "import matplotlib as mpl\n",
    "import matplotlib.cm as cm\n",
    "import matplotlib.pyplot as plt"
   ]
  },
  {
   "cell_type": "markdown",
   "metadata": {},
   "source": [
    "#### Just some matplotlib and seaborn parameter tuning"
   ]
  },
  {
   "cell_type": "code",
   "execution_count": null,
   "metadata": {},
   "outputs": [],
   "source": [
    "# Set axtick dimensions\n",
    "major_size = 6\n",
    "major_width = 1.2\n",
    "minor_size = 3\n",
    "minor_width = 1\n",
    "mpl.rcParams['xtick.major.size'] = major_size\n",
    "mpl.rcParams['xtick.major.width'] = major_width\n",
    "mpl.rcParams['xtick.minor.size'] = minor_size\n",
    "mpl.rcParams['xtick.minor.width'] = minor_width\n",
    "mpl.rcParams['ytick.major.size'] = major_size\n",
    "mpl.rcParams['ytick.major.width'] = major_width\n",
    "mpl.rcParams['ytick.minor.size'] = minor_size\n",
    "mpl.rcParams['ytick.minor.width'] = minor_width\n",
    "\n",
    "# Seaborn style settings\n",
    "sns.set_style({'axes.axisbelow': True,\n",
    "               'axes.edgecolor': '.1',\n",
    "               'axes.facecolor': 'white',\n",
    "               'axes.grid': True,\n",
    "               'axes.labelcolor': '.15',\n",
    "               'axes.spines.bottom': True,\n",
    "               'axes.spines.left': True,\n",
    "               'axes.spines.right': True,\n",
    "               'axes.spines.top': True,\n",
    "               'figure.facecolor': 'white',\n",
    "               'font.family': ['sans-serif'],\n",
    "               'font.sans-serif': ['Arial',\n",
    "                'DejaVu Sans',\n",
    "                'Liberation Sans',\n",
    "                'Bitstream Vera Sans',\n",
    "                'sans-serif'],\n",
    "               'grid.color': '.8',\n",
    "               'grid.linestyle': '--',\n",
    "               'image.cmap': 'rocket',\n",
    "               'lines.solid_capstyle': 'round',\n",
    "               'patch.edgecolor': 'w',\n",
    "               'patch.force_edgecolor': True,\n",
    "               'text.color': '.15',\n",
    "               'xtick.bottom': True,\n",
    "               'xtick.color': '.15',\n",
    "               'xtick.direction': 'in',\n",
    "               'xtick.top': True,\n",
    "               'ytick.color': '.15',\n",
    "               'ytick.direction': 'in',\n",
    "               'ytick.left': True,\n",
    "               'ytick.right': True})"
   ]
  },
  {
   "cell_type": "code",
   "execution_count": null,
   "metadata": {},
   "outputs": [],
   "source": [
    "def euro_option_binomial_price(S_t, K, T, r, sigma, N):\n",
    "\n",
    "    # Step 1.\n",
    "    # Creation of the price tree\n",
    "    C = np.zeros((N+1, N+1))    # Option value for the ith node at time t\n",
    "    S = np.zeros((N+1, N+1))    # Spot prices of the underlying asset at the nth period \n",
    "    \n",
    "    # Each layer in the tree represents a time step\n",
    "    dT = T / N\n",
    "\n",
    "    # Up and down factors\n",
    "    # The price goes up or down in each step\n",
    "    # d = 1/u\n",
    "    u = np.exp(sigma * np.sqrt(dT))\n",
    "    d = np.exp(-sigma * np.sqrt(dT))\n",
    "    \n",
    "    # Binomial prob.\n",
    "    p = (np.exp(r * dT) - d) / (u - d)\n",
    "    \n",
    "    # P up and down\n",
    "    P_u = np.exp(-r * dT) * p\n",
    "    P_d = np.exp(-r * dT) * (1 - p)\n",
    "    \n",
    "    # Step 2.\n",
    "    # Find the option value at each final node\n",
    "    for i in range(0, N+1):\n",
    "        for j in range(i, N+1):\n",
    "            S[i, j] = S_t * u**j * d**(2*i)\n",
    "    for i in range(0, N+1):\n",
    "        # numpy.max() does not work here...?\n",
    "        C[i, N] = max(0, S[i, N] - K)\n",
    "    \n",
    "    # Step 3.\n",
    "    # Calculate the option values at each preceding node\n",
    "    for j in range(N-1, -1, -1):\n",
    "        for i in range(0, j+1):\n",
    "            C[i, j] = P_u * C[i, j+1] + P_d * C[i+1, j+1]\n",
    "\n",
    "    return C[0, 0]"
   ]
  },
  {
   "cell_type": "code",
   "execution_count": null,
   "metadata": {},
   "outputs": [],
   "source": [
    "S_t = 52\n",
    "K = 50\n",
    "T = 3/12\n",
    "r = 0.12\n",
    "sigma = 0.3"
   ]
  },
  {
   "cell_type": "code",
   "execution_count": null,
   "metadata": {},
   "outputs": [],
   "source": [
    "euro_option_binomial_price(S_t, K, T, r, sigma, N=1)"
   ]
  },
  {
   "cell_type": "code",
   "execution_count": null,
   "metadata": {},
   "outputs": [],
   "source": [
    "euro_option_binomial_price(S_t, K, T, r, sigma, N=2)"
   ]
  },
  {
   "cell_type": "code",
   "execution_count": null,
   "metadata": {},
   "outputs": [],
   "source": [
    "euro_option_binomial_price(S_t, K, T, r, sigma, N=3)"
   ]
  },
  {
   "cell_type": "code",
   "execution_count": null,
   "metadata": {},
   "outputs": [],
   "source": [
    "euro_option_binomial_price(S_t, K, T, r, sigma, N=50)"
   ]
  },
  {
   "cell_type": "markdown",
   "metadata": {},
   "source": [
    "### N steps"
   ]
  },
  {
   "cell_type": "code",
   "execution_count": null,
   "metadata": {},
   "outputs": [],
   "source": [
    "bs_value = 5.0574\n",
    "\n",
    "N_values = np.arange(1,101,1)\n",
    "price_approx = [euro_option_binomial_price(S_t, K, T, r, sigma, N=n) for n in N_values]"
   ]
  },
  {
   "cell_type": "code",
   "execution_count": null,
   "metadata": {},
   "outputs": [],
   "source": [
    "nrows = 1\n",
    "ncols = 1\n",
    "fig, axes = plt.subplots(nrows=nrows, ncols=ncols, figsize=(ncols*10, nrows*8))\n",
    "\n",
    "axislabelsize = 18\n",
    "axisticksize = 15\n",
    "axislegendsize = 18\n",
    "\n",
    "axes.plot(N_values, price_approx, label='Binomial tree model',\n",
    "          c='tab:red', lw=3)\n",
    "axes.axhline(y=bs_value, label='Black-Scholes model',\n",
    "             c='green', lw=3, ls='--', alpha=0.7)\n",
    "\n",
    "\n",
    "axes.set_xlabel('$N$', fontsize=axislabelsize)\n",
    "axes.set_ylabel('Price of option [USD]', fontsize=axislabelsize)\n",
    "axes.tick_params(axis='both', which='major', labelsize=axisticksize)\n",
    "\n",
    "axes.legend(loc='upper right', fontsize=axislegendsize)\n",
    "\n",
    "plt.show()"
   ]
  },
  {
   "cell_type": "code",
   "execution_count": null,
   "metadata": {},
   "outputs": [],
   "source": [
    "print('At N = {0}, the ratio of the Binomial approximation and the B-S formula is {1:.5f}'.format(np.max(N_values),\n",
    "                                                                                                  price_approx[-1]/bs_value))"
   ]
  },
  {
   "cell_type": "markdown",
   "metadata": {},
   "source": [
    "We can state, that the method involving a binomial tree, approximates the result given by the Black-Scholes model."
   ]
  },
  {
   "cell_type": "code",
   "execution_count": null,
   "metadata": {},
   "outputs": [],
   "source": []
  },
  {
   "cell_type": "code",
   "execution_count": null,
   "metadata": {},
   "outputs": [],
   "source": []
  },
  {
   "cell_type": "code",
   "execution_count": null,
   "metadata": {},
   "outputs": [],
   "source": []
  }
 ],
 "metadata": {
  "kernelspec": {
   "display_name": "Python 3 (ipykernel)",
   "language": "python",
   "name": "python3"
  },
  "language_info": {
   "codemirror_mode": {
    "name": "ipython",
    "version": 3
   },
   "file_extension": ".py",
   "mimetype": "text/x-python",
   "name": "python",
   "nbconvert_exporter": "python",
   "pygments_lexer": "ipython3",
   "version": "3.9.10"
  }
 },
 "nbformat": 4,
 "nbformat_minor": 4
}
